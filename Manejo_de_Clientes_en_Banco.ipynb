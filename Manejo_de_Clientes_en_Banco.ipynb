{
 "cells": [
  {
   "cell_type": "markdown",
   "metadata": {},
   "source": [
    "#                  Object Oriented Project Hands-On\n",
    "\n",
    "## Simulación: Fila en un Banco\n",
    "\n",
    "El objetivo de esta sesión es realizar una simulación de atención en línea de cajas de un Banco usando para ello un diseño orientado a objetos.\n",
    "\n",
    "El diseño de este simulador cuenta con las siguientes clases: `Fila`, `FilaPreferencial`, `FilaGeneral` y `Cliente`.\n",
    "\n",
    "El Banco decidió como política dividir la atención en dos filas correspondientes a aquellos clientes preferenciales del Banco y otra para aquellos clientes generales.\n",
    "\n",
    "Una de las ventajas de pertenecer a la cartera de clientes preferenciales está relacionada con el tiempo de espera. Si los clientes preferenciales esperan demasiado tiempo (o sea, si la fila preferencial es demasiado larga) es posible dividir en dos la fila y abrir una nueva caja de atención.\n",
    "\n",
    "Los clientes pueden acceder a un upgrade de general al preferencial. \n",
    "\n",
    "El diagrama de clases se puede ver a continuación: \n",
    "\n",
    "![title](clasesfila.png)\n",
    "\n",
    "## Tareas\n",
    "\n",
    "1. Completar la implementación de los métodos faltantes en las diferentes clases.\n",
    "2. Completar el módulo main que realice la simulación de atención a medida que llegan los clientes.\n",
    "3. Crear un método que muestre la fila de clientes de cada tipo.\n",
    "4. Realizar una visualización de la simulación."
   ]
  },
  {
   "cell_type": "code",
   "execution_count": 2,
   "metadata": {},
   "outputs": [],
   "source": [
    "# Las clases se encuentran en el archivo main.py\n",
    "from main import Fila\n",
    "from main import FilaPreferencial\n",
    "from main import FilaGeneral\n",
    "from main import cliente"
   ]
  },
  {
   "cell_type": "code",
   "execution_count": 3,
   "metadata": {},
   "outputs": [],
   "source": [
    "import numpy as np\n",
    "from random import randint,uniform"
   ]
  },
  {
   "cell_type": "code",
   "execution_count": 41,
   "metadata": {},
   "outputs": [],
   "source": [
    "t_cierre = 240 # Tiempo en el que estan abiertas las puertas del banco (en minutos)\n",
    "\n",
    "nmax_ingresan = 4   # Máximo numero de clientes que ingresan al banco x minuto\n",
    "#nmax_atendidos_G = 4 # Máximo numero de clientes atendidos x minuto\n",
    "#nmax_atendidos_P = 1 # Máximo numero de clientes atendidos x minuto\n",
    "\n",
    "r_preferencial = 0.25 # El r_preferncialx100% de clientes es Preferencial \n",
    "\n",
    "t_atencion_G = 1.0 # Tiempo (en minutos) de atención a clientes Generales \n",
    "t_atencion_P = 3.50 # Tiempo (en minutos) de atención a clientes Preferenciales\n",
    "\n",
    "inv_t_atencion_G = 1.0 / t_atencion_G\n",
    "inv_t_atencion_P = 1.0 / t_atencion_P"
   ]
  },
  {
   "cell_type": "code",
   "execution_count": 42,
   "metadata": {},
   "outputs": [],
   "source": [
    "enfila_G = []  # Lista de clientes no preferenciales en la fila\n",
    "enfila_P = []  # Lista de clientes    preferenciales en la fila"
   ]
  },
  {
   "cell_type": "code",
   "execution_count": 43,
   "metadata": {},
   "outputs": [
    {
     "name": "stdout",
     "output_type": "stream",
     "text": [
      "92\n",
      "190\n"
     ]
    }
   ],
   "source": [
    "#Banco Abierto (Entran Clientes y son Atendidos)\n",
    "\n",
    "# Creo Una fila Preferencial\n",
    "Fila_P = FilaPreferencial()\n",
    "\n",
    "# Creo una fila General (Unica)\n",
    "Fila_G = FilaGeneral()\n",
    "\n",
    "t=1  # Primer minuto en el banco\n",
    "while t <= t_cierre:\n",
    "    # Ingreso de Clientes al Banco por minuto\n",
    "    n_clientes = randint(1,nmax_ingresan)              #n_clientes = 12 \n",
    "    # Creación, Categorización y Asignación de Clientes a la fila que Corresponde\n",
    "    for i in range(n_clientes):\n",
    "        dni = randint(10000000,50000000)\n",
    "        o_cliente = cliente(dni)\n",
    "        \n",
    "        if uniform(0,1) < r_preferencial:\n",
    "            o_cliente.modificarcategoria(\"Preferencial\")\n",
    "            Fila_P.insertar(o_cliente)\n",
    "        else:\n",
    "            o_cliente.modificarcategoria(\"No Preferencial\")\n",
    "            Fila_G.insertar(o_cliente) \n",
    "    \n",
    "    \n",
    "    # Atención de Clientes en la fila General\n",
    "    \n",
    "    if uniform(0,1) < inv_t_atencion_G: \n",
    "        if Fila_G.enfila > 0: # Si hay clientes en la fila\n",
    "            Fila_G.atender()\n",
    "\n",
    "    \n",
    "    # Atención de Clientes en la fila Preferencial\n",
    "    if uniform(0,1) < inv_t_atencion_P:\n",
    "        if Fila_P.enfila > 0: \n",
    "            Fila_P.atender()\n",
    "            \n",
    "            \n",
    "    # Recuento de clientes en cada fila\n",
    "    enfila_G.append(Fila_G.enfila)\n",
    "    enfila_P.append(Fila_P.enfila)\n",
    "\n",
    "    #Paso un minuto\n",
    "    t += 1 \n",
    "\n",
    "\n",
    "print(Fila_P.enfila)\n",
    "print(Fila_G.enfila)\n"
   ]
  },
  {
   "cell_type": "code",
   "execution_count": 44,
   "metadata": {},
   "outputs": [
    {
     "name": "stdout",
     "output_type": "stream",
     "text": [
      "0\n",
      "0\n"
     ]
    }
   ],
   "source": [
    "# Banco Cierra las Puertas (Dejan de entrar clientes, pero se sigue atendiendo, hasta que no quede ninguno)\n",
    "\n",
    "while Fila_P.enfila > 0 or Fila_G.enfila > 0:\n",
    "     # Atención de Clientes en la fila General\n",
    "    \n",
    "    if uniform(0,1) < inv_t_atencion_G:\n",
    "        if Fila_G.enfila > 0: \n",
    "            Fila_G.atender()\n",
    "\n",
    "    \n",
    "    # Atención de Clientes en la fila Preferencial\n",
    "    if uniform(0,1) < inv_t_atencion_P:\n",
    "        if Fila_P.enfila > 0: \n",
    "            Fila_P.atender()\n",
    "            \n",
    "    # Recuento de clientes en cada fila\n",
    "    enfila_G.append(Fila_G.enfila)\n",
    "    enfila_P.append(Fila_P.enfila)        \n",
    "            \n",
    "            \n",
    "    #Paso un minuto\n",
    "    t += 1 \n",
    "\n",
    "\n",
    "print(Fila_P.enfila)\n",
    "print(Fila_G.enfila)\n",
    "\n",
    "\n"
   ]
  },
  {
   "cell_type": "code",
   "execution_count": 45,
   "metadata": {},
   "outputs": [],
   "source": [
    "import matplotlib.pyplot as plt "
   ]
  },
  {
   "cell_type": "code",
   "execution_count": 46,
   "metadata": {},
   "outputs": [
    {
     "data": {
      "image/png": "[encoded data removed]",
      "text/plain": [
       "<Figure size 432x288 with 1 Axes>"
      ]
     },
     "metadata": {
      "needs_background": "light"
     },
     "output_type": "display_data"
    }
   ],
   "source": [
    "CG = np.asarray(enfila_G)\n",
    "CP = np.asarray(enfila_P)\n",
    "\n",
    "plt.plot(CG,\"bo-\", linewidth=1, markersize=1 , label=\"Generales\" );\n",
    "plt.plot(CP,\"gd-\", linewidth=1, markersize=1 , label=\"Preferenciales\" );\n",
    "plt.xlabel(\"$t(minutos)$\") # LaTeX Code \n",
    "plt.ylabel(\"Clientes\")   # \n",
    "plt.legend(loc=\"upper left\") # \n",
    "plt.savefig(\"myplot.pdf\")"
   ]
  },
  {
   "cell_type": "code",
   "execution_count": null,
   "metadata": {},
   "outputs": [],
   "source": []
  }
 ],
 "metadata": {
  "kernelspec": {
   "display_name": "Python 3",
   "language": "python",
   "name": "python3"
  },
  "language_info": {
   "codemirror_mode": {
    "name": "ipython",
    "version": 3
   },
   "file_extension": ".py",
   "mimetype": "text/x-python",
   "name": "python",
   "nbconvert_exporter": "python",
   "pygments_lexer": "ipython3",
   "version": "3.7.0"
  }
 },
 "nbformat": 4,
 "nbformat_minor": 2
}
