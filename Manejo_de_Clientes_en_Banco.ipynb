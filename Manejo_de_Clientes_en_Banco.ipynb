{
 "cells": [
  {
   "cell_type": "markdown",
   "metadata": {},
   "source": [
    "#                  Object Oriented Project Hands-On\n",
    "\n",
    "## Simulación: Fila en un Banco\n",
    "\n",
    "El objetivo de esta sesión es realizar una simulación de atención en línea de cajas de un Banco usando para ello un diseño orientado a objetos.\n",
    "\n",
    "El diseño de este simulador cuenta con las siguientes clases: `Fila`, `FilaPreferencial`, `FilaGeneral` y `Cliente`.\n",
    "\n",
    "El Banco decidió como política dividir la atención en dos filas correspondientes a aquellos clientes preferenciales del Banco y otra para aquellos clientes generales.\n",
    "\n",
    "Una de las ventajas de pertenecer a la cartera de clientes preferenciales está relacionada con el tiempo de espera. Si los clientes preferenciales esperan demasiado tiempo (o sea, si la fila preferencial es demasiado larga) es posible dividir en dos la fila y abrir una nueva caja de atención.\n",
    "\n",
    "Los clientes pueden acceder a un upgrade de general al preferencial. \n",
    "\n",
    "El diagrama de clases se puede ver a continuación: \n",
    "\n",
    "![title](clasesfila.png)\n",
    "\n",
    "## Tareas\n",
    "\n",
    "1. Completar la implementación de los métodos faltantes en las diferentes clases.\n",
    "2. Completar el módulo main que realice la simulación de atención a medida que llegan los clientes.\n",
    "3. Crear un método que muestre la fila de clientes de cada tipo.\n",
    "4. Realizar una visualización de la simulación."
   ]
  },
  {
   "cell_type": "code",
   "execution_count": 5,
   "metadata": {},
   "outputs": [],
   "source": [
    "# Las clases se encuentran en el archivo main.py\n",
    "from main import Fila\n",
    "from main import FilaPreferencial\n",
    "from main import FilaGeneral\n",
    "from main import cliente"
   ]
  },
  {
   "cell_type": "code",
   "execution_count": 4,
   "metadata": {},
   "outputs": [
    {
     "name": "stdout",
     "output_type": "stream",
     "text": [
      "Preferencial\n"
     ]
    }
   ],
   "source": [
    "cliente_001 = cliente(32994917)\n",
    "cliente_001.modificarcategoria(\"Preferencial\")\n",
    "\n",
    "print(cliente_001.categoria)"
   ]
  },
  {
   "cell_type": "code",
   "execution_count": 6,
   "metadata": {},
   "outputs": [
    {
     "name": "stdout",
     "output_type": "stream",
     "text": [
      "10 Preferencial\n",
      "11 Preferencial\n",
      "12 Preferencial\n",
      "13 Preferencial\n",
      "14 Preferencial\n",
      "15 Preferencial\n",
      "16 Preferencial\n",
      "17 Preferencial\n",
      "18 Preferencial\n",
      "19 Preferencial\n",
      "20 General\n",
      "21 General\n",
      "22 General\n",
      "23 General\n",
      "24 General\n",
      "25 General\n",
      "26 General\n",
      "27 General\n",
      "28 General\n",
      "29 General\n",
      "1\n",
      "32994917\n",
      "\n",
      "0\n"
     ]
    }
   ],
   "source": [
    "lista_clientes = []\n",
    "\n",
    "n=20\n",
    "for i in range(0,n):\n",
    "    dni = i+10\n",
    "    lista_clientes.append( cliente(dni) )\n",
    "    if i<10:\n",
    "        lista_clientes[i].modificarcategoria(\"Preferencial\")\n",
    "    else:\n",
    "        lista_clientes[i].modificarcategoria(\"General\")\n",
    "    print(lista_clientes[i].dni,lista_clientes[i].categoria )\n",
    "\n",
    "# creo la fila preferencial\n",
    "Fila_P = FilaPreferencial()\n",
    "\n",
    "# creo la fila general\n",
    "Fila_G = FilaGeneral()\n",
    "\n",
    "Fila_P.insertar(cliente_001)\n",
    "\n",
    "print(Fila_P.enfila)\n",
    "print(Fila_P.fila[0].dni)\n",
    "\n",
    "\n",
    "Fila_P.atender()\n",
    "print()\n",
    "print(Fila_P.enfila)"
   ]
  },
  {
   "cell_type": "code",
   "execution_count": null,
   "metadata": {},
   "outputs": [],
   "source": []
  }
 ],
 "metadata": {
  "kernelspec": {
   "display_name": "Python 3",
   "language": "python",
   "name": "python3"
  },
  "language_info": {
   "codemirror_mode": {
    "name": "ipython",
    "version": 3
   },
   "file_extension": ".py",
   "mimetype": "text/x-python",
   "name": "python",
   "nbconvert_exporter": "python",
   "pygments_lexer": "ipython3",
   "version": "3.7.0"
  }
 },
 "nbformat": 4,
 "nbformat_minor": 2
}
